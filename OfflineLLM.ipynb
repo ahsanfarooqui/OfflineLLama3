{
 "cells": [
  {
   "cell_type": "markdown",
   "id": "c44f8617-e175-42b9-a483-d939a4fcc3cf",
   "metadata": {},
   "source": [
    "# Before running:\n",
    "* Make sure you have Ollama installed. and are running at least one model. In this example I am using LLama3.2 model\n",
    "* Ollama can be downloaded from https://ollama.com/ and can be run without hassle. \n",
    "* Make sure you download sentence-transformers model for embedding generation. \n",
    "* It will assume that the sentence-transformers is saved in the ./pretrained/ directory "
   ]
  },
  {
   "cell_type": "code",
   "execution_count": 11,
   "id": "5afce5e9-2ab2-4e4f-b285-8436b357d4e1",
   "metadata": {},
   "outputs": [],
   "source": [
    "#Downloading the sentence-transformers llm\n",
    "#Need to run these lines once. No need to run them at each iteration. \n",
    "\n",
    "# from transformers import AutoModel, AutoTokenizer\n",
    "#import os \n",
    "# # Specify the model name\n",
    "# model_name = \"sentence-transformers/all-MiniLM-L6-v2\"\n",
    "\n",
    "# # Download the model and tokenizer\n",
    "# model = AutoModel.from_pretrained(model_name)\n",
    "# tokenizer = AutoTokenizer.from_pretrained(model_name)\n",
    "\n",
    "# # Save the model and tokenizer to a local directory\n",
    "# os.mkdir('./pretrained/')\n",
    "# local_model_path = \"./pretrained\"\n",
    "# model.save_pretrained(local_model_path)\n",
    "# tokenizer.save_pretrained(local_model_path)\n",
    "\n",
    "# print(f\"Model downloaded and saved to {local_model_path}\")\n"
   ]
  },
  {
   "cell_type": "code",
   "execution_count": 2,
   "id": "b3186973-dc98-466f-88f0-9de68fc12f13",
   "metadata": {},
   "outputs": [
    {
     "name": "stderr",
     "output_type": "stream",
     "text": [
      "USER_AGENT environment variable not set, consider setting it to identify your requests.\n"
     ]
    }
   ],
   "source": [
    "# If you want a pdf source, please use the relevant libraries to load pdf files \n",
    "from langchain_community.document_loaders import WebBaseLoader\n",
    "from langchain.text_splitter import RecursiveCharacterTextSplitter\n",
    "# List of URLs to load documents from\n",
    "urls = [\n",
    "    \"https://www.webmd.com/diabetes/diabetes-basics\",\n",
    "    \"https://www.webmd.com/diabetes/diabetes-hyperglycemia\",\n",
    "    \"https://www.webmd.com/diabetes/diabetes-hypoglycemia\"\n",
    "]\n",
    "# Load documents from the URLs\n",
    "docs = [WebBaseLoader(url).load() for url in urls]\n",
    "docs_list = [item for sublist in docs for item in sublist]"
   ]
  },
  {
   "cell_type": "code",
   "execution_count": 3,
   "id": "e1c7b5a2-e8ad-4959-94e1-93315f9d6fc8",
   "metadata": {},
   "outputs": [],
   "source": [
    "# Initialize a text splitter with specified chunk size and overlap. This can be modified as per requirement. \n",
    "text_splitter = RecursiveCharacterTextSplitter.from_tiktoken_encoder(\n",
    "    chunk_size=250, chunk_overlap=0\n",
    ")\n",
    "# Split the documents into chunks\n",
    "doc_splits = text_splitter.split_documents(docs_list)"
   ]
  },
  {
   "cell_type": "code",
   "execution_count": 4,
   "id": "d8f3983c-43c9-4ecc-a3a1-adcd20ccedf5",
   "metadata": {},
   "outputs": [
    {
     "data": {
      "text/plain": [
       "Document(metadata={'source': 'https://www.webmd.com/diabetes/diabetes-basics', 'title': 'Diabetes: An Overview', 'description': \"Diabetes is a lifelong disease. There's no cure but you can manage and control it. Let's understand the Symptoms, Types and Treatment options from the experts at WebMD.\", 'language': 'en'}, page_content='Insulin and DiabetesTo understand why insulin is important in diabetes, it helps to know more about how your body uses food for energy. Your body is made up of millions of cells. To make energy, these cells need food in a very simple form. When you eat or drink, much of your food is broken down into a simple sugar called \"glucose.\" Then, glucose is transported through your bloodstream to the cells of your body where it can be used to provide some of the energy your body needs for daily activities. The amount of glucose in your bloodstream is regulated by the hormone insulin. Insulin is always being released in small amounts by your pancreas. When the amount of glucose in your blood rises to a certain level, your pancreas will release more insulin to push more glucose into your cells. This causes your blood glucose level to drop.To keep it from getting too low (hypoglycemia or low blood sugar), your body signals you to eat and releases some glucose stored in your liver.People with diabetes either don\\'t make insulin or their body\\'s cells are resistant to insulin, leading to high levels of sugar circulating in the blood, called simply high blood sugar. By definition, diabetes is having a blood')"
      ]
     },
     "execution_count": 4,
     "metadata": {},
     "output_type": "execute_result"
    }
   ],
   "source": [
    "doc_splits[5]"
   ]
  },
  {
   "cell_type": "code",
   "execution_count": 5,
   "id": "61c00d4d-4812-4991-9cb1-ea622d817049",
   "metadata": {},
   "outputs": [
    {
     "name": "stderr",
     "output_type": "stream",
     "text": [
      "/tmp/ipykernel_21234/989295268.py:8: LangChainDeprecationWarning: The class `HuggingFaceEmbeddings` was deprecated in LangChain 0.2.2 and will be removed in 1.0. An updated version of the class exists in the :class:`~langchain-huggingface package and should be used instead. To use it run `pip install -U :class:`~langchain-huggingface` and import as `from :class:`~langchain_huggingface import HuggingFaceEmbeddings``.\n",
      "  embedding_model = HuggingFaceEmbeddings(model_name=\"./pretrained/\")\n",
      "/home/ahsan/anaconda3/lib/python3.10/site-packages/sentence_transformers/cross_encoder/CrossEncoder.py:13: TqdmExperimentalWarning: Using `tqdm.autonotebook.tqdm` in notebook mode. Use `tqdm.tqdm` instead to force console mode (e.g. in jupyter console)\n",
      "  from tqdm.autonotebook import tqdm, trange\n",
      "No sentence-transformers model found with name ./pretrained/. Creating a new one with mean pooling.\n"
     ]
    }
   ],
   "source": [
    "from langchain.text_splitter import RecursiveCharacterTextSplitter\n",
    "from langchain.vectorstores import FAISS\n",
    "from langchain.embeddings import HuggingFaceEmbeddings\n",
    "from langchain.schema import Document\n",
    "\n",
    "# Step 3: Initialize HuggingFace embeddings (offline)\n",
    "# Use a local embedding model such as 'sentence-transformers/all-MiniLM-L6-v2'\n",
    "embedding_model = HuggingFaceEmbeddings(model_name=\"./pretrained/\") #remember the name of LLM is now changed as per the directory. \n",
    "\n",
    "# Step 4: Create a FAISS vector store from document chunks and embeddings\n",
    "vectorstore = FAISS.from_documents(doc_splits, embedding_model)\n",
    "\n",
    "# Step 5: Initialize a retriever with similarity search\n",
    "retriever = vectorstore.as_retriever(search_type=\"similarity\", search_kwargs={\"k\": 5})"
   ]
  },
  {
   "cell_type": "code",
   "execution_count": 6,
   "id": "75712ced-5c18-4485-b774-4c41f8878560",
   "metadata": {},
   "outputs": [],
   "source": [
    "#!pip install langchain_ollama  #library needed to communicate with Ollama. \n",
    "from langchain_ollama import ChatOllama\n",
    "from langchain.prompts import PromptTemplate\n",
    "from langchain_core.output_parsers import StrOutputParser\n",
    "# Define the prompt template for the LLM\n",
    "prompt = PromptTemplate(\n",
    "    template=\"\"\"You are an assistant for question-answering tasks.\n",
    "    Use the following documents to answer the question.\n",
    "    If you don't know the answer, just say that you don't know.\n",
    "    Use three sentences maximum and keep the answer concise:\n",
    "    Question: {question}\n",
    "    Documents: {documents}\n",
    "    Answer:\n",
    "    \"\"\",\n",
    "    input_variables=[\"question\", \"documents\"],\n",
    ")"
   ]
  },
  {
   "cell_type": "code",
   "execution_count": 7,
   "id": "26d8b6bd-e031-4110-a5ea-dae808c32dcc",
   "metadata": {},
   "outputs": [],
   "source": [
    "# Initialize the LLM with Llama 3.2 model\n",
    "llm = ChatOllama(\n",
    "    model=\"llama3.2\",\n",
    "    temperature=0,\n",
    ")"
   ]
  },
  {
   "cell_type": "code",
   "execution_count": 8,
   "id": "03024ac5-f9c4-49e0-9347-0ea9f6435861",
   "metadata": {},
   "outputs": [],
   "source": [
    "# Create a chain combining the prompt template and LLM\n",
    "rag_chain = prompt | llm | StrOutputParser()"
   ]
  },
  {
   "cell_type": "code",
   "execution_count": 9,
   "id": "e4896ef0-a05f-455d-a6f4-5c74c3e0ba57",
   "metadata": {},
   "outputs": [],
   "source": [
    "# Define the RAG application class\n",
    "class RAGApplication:\n",
    "    def __init__(self, retriever, rag_chain):\n",
    "        self.retriever = retriever\n",
    "        self.rag_chain = rag_chain\n",
    "    def run(self, question):\n",
    "        # Retrieve relevant documents\n",
    "        documents = self.retriever.invoke(question)\n",
    "        # Extract content from retrieved documents\n",
    "        doc_texts = \"\\\\n\".join([doc.page_content for doc in documents])\n",
    "        # Get the answer from the language model\n",
    "        answer = self.rag_chain.invoke({\"question\": question, \"documents\": doc_texts})\n",
    "        return answer"
   ]
  },
  {
   "cell_type": "code",
   "execution_count": 10,
   "id": "08ddbc18-29e6-4dd2-970c-66ed46642a37",
   "metadata": {},
   "outputs": [
    {
     "name": "stdout",
     "output_type": "stream",
     "text": [
      "Question: explain difference between hyperglycemia and hypoglycemia?\n",
      "Answer: Here is the answer:\n",
      "\n",
      "Hyperglycemia and hypoglycemia are two distinct conditions related to blood sugar levels. Hyperglycemia occurs when blood sugar levels are too high, typically above 180 mg/dL after eating, while hypoglycemia occurs when blood sugar levels are too low, below normal levels. The main difference between the two is that hyperglycemia can lead to serious health problems if left untreated, whereas hypoglycemia can be treated with food or medication.\n"
     ]
    }
   ],
   "source": [
    "# Initialize the RAG application\n",
    "rag_application = RAGApplication(retriever, rag_chain)\n",
    "# Example usage\n",
    "question = \"explain difference between hyperglycemia and hypoglycemia?\"\n",
    "answer = rag_application.run(question)\n",
    "print(\"Question:\", question)\n",
    "print(\"Answer:\", answer)"
   ]
  },
  {
   "cell_type": "markdown",
   "id": "b6e5baed-a2ea-417c-b6f8-18a23eb32c82",
   "metadata": {},
   "source": [
    "### Note that inference time might be longer if you dont have NVIDIA GPUs installed. "
   ]
  }
 ],
 "metadata": {
  "kernelspec": {
   "display_name": "Python 3 (ipykernel)",
   "language": "python",
   "name": "python3"
  },
  "language_info": {
   "codemirror_mode": {
    "name": "ipython",
    "version": 3
   },
   "file_extension": ".py",
   "mimetype": "text/x-python",
   "name": "python",
   "nbconvert_exporter": "python",
   "pygments_lexer": "ipython3",
   "version": "3.10.9"
  }
 },
 "nbformat": 4,
 "nbformat_minor": 5
}
